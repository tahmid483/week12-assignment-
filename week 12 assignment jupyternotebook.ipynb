{
 "cells": [
  {
   "cell_type": "code",
   "execution_count": null,
   "metadata": {},
   "outputs": [],
   "source": [
    "import requests\n",
    "import pandas as pd\n",
    "\n",
    "\n",
    "API_KEY = 'uUXtlR8p9RsIEqhKLkVqtbm7nbE3KuHF'\n",
    "reviewer = 'all'\n",
    "url = 'https://api.nytimes.com/svc/movies/v2/reviews/search.json'\n",
    "params = {'api-key': API_KEY}\n",
    "\n",
    "\n",
    "response = requests.get(url, headers={'Accept': 'application/json'}, params=params)\n",
    "\n",
    "\n",
    "if response.status_code == 200:\n",
    "    critics = response.json().get('results', [])\n",
    "    df = pd.DataFrame(critics)[['display_name', 'sort_name', 'status', 'bio', 'seo_name']]\n",
    "    print(df.head())\n",
    "else:\n",
    "    print(f\"Error {response.status_code}: {response.text}\")\n"
   ]
  }
 ],
 "metadata": {
  "kernelspec": {
   "display_name": "Python 3",
   "language": "python",
   "name": "python3"
  },
  "language_info": {
   "name": "python",
   "version": "3.13.2"
  }
 },
 "nbformat": 4,
 "nbformat_minor": 2
}
